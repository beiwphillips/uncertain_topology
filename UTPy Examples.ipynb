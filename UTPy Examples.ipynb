{
 "cells": [
  {
   "cell_type": "code",
   "execution_count": 33,
   "metadata": {
    "ExecuteTime": {
     "end_time": "2019-03-25T03:57:56.439572Z",
     "start_time": "2019-03-25T03:57:56.428153Z"
    }
   },
   "outputs": [],
   "source": [
    "from functools import partial\n",
    "from matplotlib import colors, cm\n",
    "import matplotlib.pyplot as plt\n",
    "import scipy.io\n",
    "import itertools\n",
    "from skimage import io, filters, morphology, restoration, feature, transform\n",
    "from matplotlib.collections import LineCollection\n",
    "from mpl_toolkits.mplot3d import Axes3D\n",
    "import seaborn as sns\n",
    "from itertools import cycle\n",
    "import sklearn.cluster\n",
    "from sklearn.preprocessing import MinMaxScaler\n",
    "import skimage.segmentation as seg\n",
    "from skimage.future import graph\n",
    "import skimage.color\n",
    "\n",
    "import flatpy\n",
    "import numpy as np\n",
    "\n",
    "import nglpy as ngl\n",
    "import topopy\n",
    "import pdir\n",
    "import time\n",
    "import os\n",
    "import utpy.utils\n",
    "import utpy.vis\n",
    "\n",
    "from ipywidgets import interact, widgets"
   ]
  },
  {
   "cell_type": "markdown",
   "metadata": {},
   "source": [
    "# Upsampled Flow Velocity Example"
   ]
  },
  {
   "cell_type": "code",
   "execution_count": 34,
   "metadata": {
    "ExecuteTime": {
     "end_time": "2019-03-25T03:58:12.778015Z",
     "start_time": "2019-03-25T03:57:58.807550Z"
    }
   },
   "outputs": [
    {
     "name": "stderr",
     "output_type": "stream",
     "text": [
      "/mnt/c/Users/dmalj/projects/active/samply/.eggs/scikit_learn-0.20.3-py3.7-linux-x86_64.egg/sklearn/utils/validation.py:595: DataConversionWarning: Data with input dtype int64 was converted to float64 by MinMaxScaler.\n",
      "  warnings.warn(msg, DataConversionWarning)\n"
     ]
    }
   ],
   "source": [
    "# filename = \"upSampled\"\n",
    "# n_clusters = 36\n",
    "# my_dir = \"output/{}\".format(filename)\n",
    "# ensemble = utpy.utils.load_ensemble(filename)\n",
    "\n",
    "# Real world vs. Synthetic example\n",
    "\n",
    "foo = flatpy.nD.ackley\n",
    "noise_level=0.6\n",
    "persistence = 0.665\n",
    "n_clusters = 9\n",
    "count = 50\n",
    "noise_model = \"uniform\"\n",
    "noise_level = 0.5*persistence*noise_level\n",
    "ground_truth, ensemble = utpy.utils.generate_ensemble(foo, noise_level, count, noise_model)\n",
    "ensemble = -ensemble\n",
    "ground_truth = -ground_truth\n",
    "\n",
    "\n",
    "maxima_map = utpy.utils.create_assignment_map(ensemble, n_clusters=n_clusters)\n",
    "assignments = partial(utpy.utils.assign_labels, maxima_map=maxima_map, n_clusters=n_clusters)"
   ]
  },
  {
   "cell_type": "code",
   "execution_count": 63,
   "metadata": {
    "ExecuteTime": {
     "end_time": "2019-03-25T04:45:41.394755Z",
     "start_time": "2019-03-25T04:45:41.341045Z"
    }
   },
   "outputs": [],
   "source": [
    "def show_label_boundaries(labels, ax, color=\"#000000\"):\n",
    "    h, w = labels.shape\n",
    "\n",
    "    keyMap = {}\n",
    "    levels = []\n",
    "    for i, k in enumerate(np.unique(labels)):\n",
    "        keyMap[k] = i\n",
    "        levels.append(i+0.5)\n",
    "\n",
    "    color_mesh = np.zeros((h, w))\n",
    "    for i in range(labels.shape[0]):\n",
    "        for j in range(labels.shape[1]):\n",
    "            color_mesh[i, j] = keyMap[labels[i,j]]\n",
    "\n",
    "    ax.get_xaxis().set_visible(False)\n",
    "    ax.get_yaxis().set_visible(False)\n",
    "    for i in keyMap.values():\n",
    "        ax.contour(color_mesh == i, colors=color, levels=levels, linewidths=1)\n",
    "    ax.set_aspect(\"equal\")\n",
    "    \n",
    "def threshold_variance(t=0.5, r=1):\n",
    "    counts = wcc_sum\n",
    "    eps = 1e-16\n",
    "    image = (counts - np.min(counts)) / (np.max(counts) - np.min(counts))\n",
    "    mean_image = filters.rank.mean(image, selem=morphology.disk(r))\n",
    "    image = 255*image\n",
    "    variance_image = np.power(image-mean_image, 2)+eps\n",
    "    variance_image = np.ma.masked_where(variance_image < 10**t, 255*np.ones(variance_image.shape))\n",
    "    return variance_image\n",
    "\n",
    "def get_mc_labels(grid, persistence=None, n_clusters=None):\n",
    "    X, Y = utpy.utils.massage_data(grid)\n",
    "    h, w = grid.shape\n",
    "\n",
    "    graph = ngl.EmptyRegionGraph(**utpy.vis.graph_params)\n",
    "    tmc = topopy.MorseComplex(graph=graph,\n",
    "                              gradient='steepest',\n",
    "                              normalization=None)\n",
    "    tmc.build(X, Y)\n",
    "\n",
    "    if persistence is None:\n",
    "        for p in tmc.persistences:\n",
    "            if len(tmc.get_partitions(p).keys()) <= n_clusters:\n",
    "                persistence = p\n",
    "                break\n",
    "\n",
    "    partitions = tmc.get_partitions(persistence)\n",
    "    keys = partitions.keys()\n",
    "\n",
    "    keyMap = {}\n",
    "    for i, k in enumerate(keys):\n",
    "        keyMap[k] = i\n",
    "\n",
    "    uniqueCount = len(keys)\n",
    "    color_mesh = np.zeros((h, w))\n",
    "    for key, indices in partitions.items():\n",
    "        for idx in indices:\n",
    "            color_mesh[idx // w, idx % w] = keyMap[key]\n",
    "    return color_mesh\n",
    "\n",
    "def show_combined_overlay(ensemble, assignments, gamma=2.2, contours=False):\n",
    "    \n",
    "    color_list = [[228, 26, 28], [55, 126, 184], [77, 175, 74],\n",
    "              [152, 78, 163], [255, 127, 0], [255, 255, 51],\n",
    "              [166, 86, 40], [247, 129, 191], [153, 153, 153]]\n",
    "    color_list = [[141, 211, 199], [255, 255, 179], [190, 186, 218],\n",
    "                  [251, 128, 114], [128, 177, 211], [253, 180, 98],\n",
    "                  [179, 222, 105], [252, 205, 229], [247, 129, 191]]\n",
    "#     color_list = [[105,239,123], [149,56,144], [192,222,164],\n",
    "#                     [14,80,62], [153,222,249], [24,81,155],\n",
    "#                     [218,185,255], [66,30,200], [183,211,33]]\n",
    "#     color_list = [[251,180,174],[179,205,227],[204,235,197],\n",
    "#                   [222,203,228],[254,217,166],[255,255,204],\n",
    "#                   [229,216,189],[253,218,236],[242,242,242]]\n",
    "    \n",
    "    ccycle = cycle(color_list)\n",
    "    \n",
    "    ps = []\n",
    "    fields = []\n",
    "    count = ensemble.shape[2]\n",
    "    for i in range(count):\n",
    "        field, p = assignments(ensemble[:, :, i])\n",
    "        ps.append(p)\n",
    "        fields.append(field)\n",
    "\n",
    "    ps = np.array(ps)\n",
    "    fields = np.array(fields)\n",
    "\n",
    "    num_partitions = len(np.unique(fields[0]))\n",
    "    shape = (num_partitions,) + fields[0].shape\n",
    "    label_images = np.zeros(shape)\n",
    "\n",
    "    for i in range(num_partitions):\n",
    "        test_image = (fields == i)\n",
    "        label_images[i] = np.sum(test_image, axis=0)\n",
    "\n",
    "    colored_images = []\n",
    "    for i, c in zip(range(num_partitions), ccycle):\n",
    "        colored_image = np.zeros(label_images[0].shape + (4,))\n",
    "        colored_image[:, :, 0] = c[0]/255.\n",
    "        colored_image[:, :, 1] = c[1]/255.\n",
    "        colored_image[:, :, 2] = c[2]/255.\n",
    "        colored_images.append(colored_image)\n",
    "\n",
    "    for i, label_image in enumerate(label_images):\n",
    "        colored_images[i][:, :, 3] = label_image / count\n",
    "\n",
    "    composite_image = 255*np.ones(colored_images[0].shape)[:, :, :-1]\n",
    "    for colored_image in colored_images:\n",
    "        composite_image = utpy.vis.overlay_alpha_image_precise(\n",
    "            composite_image, 255*colored_image, 1., gamma)\n",
    "    for i, color in zip(range(num_partitions), ccycle):\n",
    "        my_color = \"#{:>02}{:>02}{:>02}\".format(*[hex(c).split('x')[-1] for c in color])\n",
    "        plt.contourf(colored_images[i][:, :, 3], levels=[\n",
    "                     0.99999, 1], colors=\"#FFFFFF\", alpha=1)\n",
    "        if contours:\n",
    "            plt.contour(colored_images[i][:, :, 3], levels=[0.5], colors=my_color, linewidths=[1.0], linestyles=['solid'])\n",
    "\n",
    "    plt.imshow(composite_image)\n",
    "    plt.gca().get_xaxis().set_visible(False)\n",
    "    plt.gca().get_yaxis().set_visible(False)\n",
    "    # plt.gca().set_ylim(ensemble.shape[0], 0)\n",
    "    plt.gca().set_ylim(0, ensemble.shape[0])\n",
    "    \n",
    "def show_msc_boundaries(grid, persistence=None, n_clusters=None, color=\"#000000\"):\n",
    "    X, Y = utpy.utils.massage_data(grid)\n",
    "    h, w = grid.shape\n",
    "\n",
    "    graph = ngl.EmptyRegionGraph(**utpy.vis.graph_params)\n",
    "    tmc = topopy.MorseComplex(graph=graph,\n",
    "                              gradient='steepest',\n",
    "                              normalization=None)\n",
    "    tmc.build(X, Y)\n",
    "\n",
    "    if persistence is None:\n",
    "        for p in tmc.persistences:\n",
    "            if len(tmc.get_partitions(p).keys()) <= n_clusters:\n",
    "                persistence = p\n",
    "                break\n",
    "\n",
    "    partitions = tmc.get_partitions(persistence)\n",
    "    keys = partitions.keys()\n",
    "\n",
    "    keyMap = {}\n",
    "    levels = []\n",
    "    for i, k in enumerate(keys):\n",
    "        keyMap[k] = i\n",
    "        levels.append(i+0.5)\n",
    "\n",
    "    color_mesh = np.zeros((h, w))\n",
    "    for key, indices in partitions.items():\n",
    "        for idx in indices:\n",
    "            color_mesh[idx // w, idx % w] = keyMap[key]\n",
    "\n",
    "    plt.gca().get_xaxis().set_visible(False)\n",
    "    plt.gca().get_yaxis().set_visible(False)\n",
    "    for i in keyMap.values():\n",
    "        plt.contour(color_mesh == i, colors=color, levels=levels, linewidths=1, linestyles=\"dashed\")\n",
    "    plt.gca().set_aspect(\"equal\")"
   ]
  },
  {
   "cell_type": "code",
   "execution_count": 4,
   "metadata": {
    "ExecuteTime": {
     "end_time": "2019-03-25T03:43:14.628271Z",
     "start_time": "2019-03-25T03:43:07.322360Z"
    }
   },
   "outputs": [],
   "source": [
    "survival_counts = np.zeros(ensemble.shape)\n",
    "weighted_survival_counts = np.zeros(ensemble.shape)\n",
    "weighted_instability_counts = np.zeros(ensemble.shape)\n",
    "weighted_consumption_counts = np.zeros(ensemble.shape)\n",
    "for i in range(ensemble.shape[2]):\n",
    "    survival_counts[:, :, i], weighted_survival_counts[:, :, i], weighted_instability_counts[:, :, i], weighted_consumption_counts[:, :, i] = utpy.utils.count_persistence(ensemble[:, :, i])\n",
    "    \n",
    "sc_sum = np.sum(survival_counts, axis=2)\n",
    "sc_med = np.sum(survival_counts, axis=2)\n",
    "\n",
    "wsc_sum = np.sum(weighted_survival_counts, axis=2)\n",
    "wsc_med = np.median(weighted_survival_counts, axis=2)\n",
    "\n",
    "wic_sum = np.sum(weighted_instability_counts, axis=2)\n",
    "wic_med = np.median(weighted_instability_counts, axis=2)\n",
    "\n",
    "wcc_sum = np.sum(weighted_consumption_counts, axis=2)\n",
    "wcc_med = np.median(weighted_consumption_counts, axis=2)\n",
    "\n",
    "mean_realization = np.mean(ensemble, axis=2)\n",
    "median_realization = np.median(ensemble, axis=2)"
   ]
  },
  {
   "cell_type": "code",
   "execution_count": null,
   "metadata": {
    "ExecuteTime": {
     "end_time": "2019-03-24T18:01:31.726913Z",
     "start_time": "2019-03-24T18:01:25.511217Z"
    }
   },
   "outputs": [],
   "source": [
    "# all_ps, all_counts = utpy.vis.show_persistence_charts(ensemble, my_dir, True)"
   ]
  },
  {
   "cell_type": "code",
   "execution_count": null,
   "metadata": {
    "ExecuteTime": {
     "end_time": "2019-03-24T16:37:49.395223Z",
     "start_time": "2019-03-24T16:37:30.871034Z"
    }
   },
   "outputs": [],
   "source": [
    "# persistence = utpy.utils.get_persistence_from_count(ensemble, n_clusters)"
   ]
  },
  {
   "cell_type": "code",
   "execution_count": 5,
   "metadata": {
    "ExecuteTime": {
     "end_time": "2019-03-25T03:43:18.909845Z",
     "start_time": "2019-03-25T03:43:18.048504Z"
    },
    "scrolled": false
   },
   "outputs": [
    {
     "data": {
      "application/vnd.jupyter.widget-view+json": {
       "model_id": "148557ff70684cf68a54b7e148032f99",
       "version_major": 2,
       "version_minor": 0
      },
      "text/plain": [
       "interactive(children=(FloatSlider(value=1.0, continuous_update=False, description='t', max=3.0, min=-3.0), Int…"
      ]
     },
     "metadata": {},
     "output_type": "display_data"
    }
   ],
   "source": [
    "@interact(t=widgets.FloatSlider(min=-3, max=3, step=0.1, value=1, continuous_update=False),\n",
    "          r=widgets.IntSlider(min=1, max=5, step=1, value=1, continuous_update=False))\n",
    "def visualize(t=0.5, r=1):\n",
    "    variance_image = threshold_variance(t, r)\n",
    "    plt.figure(dpi=200)\n",
    "    log_normalization =  colors.LogNorm(vmin=variance_image.min(), vmax=variance_image.max())\n",
    "    img = plt.imshow(variance_image, cmap=plt.cm.Greys, vmin=0, vmax=255)\n",
    "    plt.gca().get_xaxis().set_visible(False)\n",
    "    plt.gca().get_yaxis().set_visible(False)\n",
    "    plt.colorbar(img, orientation=\"horizontal\")\n",
    "    plt.gca().set_title(\"Variance r={} | Threshold=10^{}\".format(r, t))\n",
    "    plt.gca().get_xaxis().set_visible(False)\n",
    "    plt.gca().get_yaxis().set_visible(False)\n",
    "    plt.gca().set_ylim(0, variance_image.shape[0])\n",
    "    plt.show()"
   ]
  },
  {
   "cell_type": "code",
   "execution_count": 6,
   "metadata": {
    "ExecuteTime": {
     "end_time": "2019-03-25T03:43:27.616785Z",
     "start_time": "2019-03-25T03:43:25.441269Z"
    },
    "scrolled": false
   },
   "outputs": [
    {
     "data": {
      "application/vnd.jupyter.widget-view+json": {
       "model_id": "381bafe8cfad45e0b41c47ba8d3a1f18",
       "version_major": 2,
       "version_minor": 0
      },
      "text/plain": [
       "interactive(children=(IntSlider(value=200, continuous_update=False, description='n_segments', max=500, min=50)…"
      ]
     },
     "metadata": {},
     "output_type": "display_data"
    }
   ],
   "source": [
    "@interact(n_segments=widgets.IntSlider(min=50, max=500, step=1, value=200, continuous_update=False),\n",
    "#           t=widgets.FloatSlider(min=-3, max=3, step=0.1, value=1, continuous_update=False),\n",
    "#           r=widgets.IntSlider(min=1, max=5, step=1, value=1, continuous_update=False),\n",
    "          compactness=widgets.IntSlider(min=-5, max=5, step=1, value=1, continuous_update=False),\n",
    "          max_iter=widgets.IntSlider(min=10, max=1000, step=10, value=100, continuous_update=False),\n",
    "          sigma=widgets.IntSlider(min=0, max=3, step=1, value=0, continuous_update=False),\n",
    "          rag_threshold=widgets.IntSlider(min=0, max=255, step=1, value=50, continuous_update=False),)\n",
    "def overlay_segmentation(n_segments,\n",
    "#                          t,\n",
    "#                          r,\n",
    "                         compactness,\n",
    "                         sigma,\n",
    "                         max_iter,\n",
    "                         rag_threshold):\n",
    "    start = time.time()\n",
    "    normed_wcc_sum = 255*(wcc_sum - np.min(wcc_sum)) / (np.max(wcc_sum) - np.min(wcc_sum))\n",
    "    image_slic = seg.slic(normed_wcc_sum, n_segments=n_segments, compactness=10**compactness, max_iter=max_iter, sigma=sigma)\n",
    "#     image_slic = seg.felzenszwalb(image, scale=scale)\n",
    "\n",
    "    out1 = skimage.color.label2rgb(image_slic, normed_wcc_sum, kind='avg')\n",
    "\n",
    "    g = graph.rag_mean_color(normed_wcc_sum, image_slic)\n",
    "    labels2 = graph.cut_threshold(image_slic, g, rag_threshold)\n",
    "    out2 = skimage.color.label2rgb(labels2, normed_wcc_sum, kind='avg')\n",
    "    segmentation = out2\n",
    "\n",
    "    colorList = [\n",
    "        \"#1f78b4\",\n",
    "        \"#33a02c\",\n",
    "        \"#e31a1c\",\n",
    "        \"#ff7f00\",\n",
    "        \"#6a3d9a\",\n",
    "        \"#b15928\",\n",
    "        \"#a6cee3\",\n",
    "        \"#b2df8a\",\n",
    "        \"#fb9a99\",\n",
    "        \"#fdbf6f\",\n",
    "        \"#cab2d6\",\n",
    "        \"#ffff99\",\n",
    "        \"#cccccc\",\n",
    "    ]\n",
    "\n",
    "    ccycle = cycle(colorList)\n",
    "\n",
    "    uniqueCount = len(np.unique(segmentation))\n",
    "    usedColors = []\n",
    "    for i, c in zip(range(uniqueCount), ccycle):\n",
    "        usedColors.append(c)\n",
    "    cmap = colors.ListedColormap(usedColors)\n",
    "    bounds = np.array([k for k in np.unique(segmentation)]) - 0.5\n",
    "    bounds = bounds.tolist()\n",
    "    bounds.append(bounds[-1]+1)\n",
    "\n",
    "    plt.figure(dpi=150)\n",
    "    img = plt.imshow(wcc_sum, cmap=plt.cm.viridis, interpolation=\"nearest\", origin=\"lower\")\n",
    "#     img = plt.imshow(image_slic, cmap=cmap, interpolation=\"nearest\", origin=\"lower\")\n",
    "#     variance_image = threshold_variance(t, r)\n",
    "#     plt.imshow(variance_image, cmap=plt.cm.Greys, vmin=0, vmax=255)\n",
    "    plt.gca().get_xaxis().set_visible(False)\n",
    "    plt.gca().get_yaxis().set_visible(False)\n",
    "#     plt.colorbar(img, ticks=[range(uniqueCount)], boundaries=bounds, orientation=\"horizontal\")\n",
    "    show_label_boundaries(segmentation, plt.gca())\n",
    "    end = time.time()\n",
    "    plt.gca().set_title(\"N={}| c={} | sigma={} | threshold={} | t={} s\".format(n_segments, compactness, sigma, rag_threshold, end-start))"
   ]
  },
  {
   "cell_type": "code",
   "execution_count": 29,
   "metadata": {
    "ExecuteTime": {
     "end_time": "2019-03-25T03:51:25.457962Z",
     "start_time": "2019-03-25T03:51:24.563457Z"
    }
   },
   "outputs": [
    {
     "data": {
      "application/vnd.jupyter.widget-view+json": {
       "model_id": "628e4e020d68495b846c1fcdbd978bbe",
       "version_major": 2,
       "version_minor": 0
      },
      "text/plain": [
       "interactive(children=(IntSlider(value=19, continuous_update=False, description='n_segments', max=50, min=1), I…"
      ]
     },
     "metadata": {},
     "output_type": "display_data"
    }
   ],
   "source": [
    "@interact(n_segments=widgets.IntSlider(min=1, max=50, step=1, value=19, continuous_update=False),\n",
    "          n_partitions=widgets.IntSlider(min=1, max=50, step=1, value=16, continuous_update=False),\n",
    "          t=widgets.FloatSlider(min=-3, max=3, step=0.1, value=1, continuous_update=False),\n",
    "          r=widgets.IntSlider(min=1, max=5, step=1, value=1, continuous_update=False))\n",
    "def overlay_mean(n_segments, n_partitions, t, r):\n",
    "    image_slic = seg.slic(wcc_sum, n_segments=19)\n",
    "    labels = get_mc_labels(mean_realization, n_clusters=n_partitions)\n",
    "\n",
    "    colorList = [\n",
    "        \"#1f78b4\",\n",
    "        \"#33a02c\",\n",
    "        \"#e31a1c\",\n",
    "        \"#ff7f00\",\n",
    "        \"#6a3d9a\",\n",
    "        \"#b15928\",\n",
    "        \"#a6cee3\",\n",
    "        \"#b2df8a\",\n",
    "        \"#fb9a99\",\n",
    "        \"#fdbf6f\",\n",
    "        \"#cab2d6\",\n",
    "        \"#ffff99\",\n",
    "        \"#cccccc\",\n",
    "    ]\n",
    "\n",
    "    ccycle = cycle(colorList)\n",
    "\n",
    "    uniqueCount = len(np.unique(labels))\n",
    "    usedColors = []\n",
    "    for i, c in zip(range(uniqueCount), ccycle):\n",
    "        usedColors.append(c)\n",
    "    cmap = colors.ListedColormap(usedColors)\n",
    "    bounds = np.array([k for k in np.unique(labels)]) - 0.5\n",
    "    bounds = bounds.tolist()\n",
    "    bounds.append(bounds[-1]+1)\n",
    "\n",
    "    plt.figure(dpi=200)\n",
    "    img = plt.imshow(labels, cmap=cmap, interpolation=\"nearest\", origin=\"lower\")\n",
    "    plt.contour(wcc_sum, levels=[200, 210], colors=\"#ffffff\")\n",
    "#     variance_image = threshold_variance(t, r)\n",
    "#     plt.imshow(variance_image, cmap=plt.cm.Greys, vmin=0, vmax=255)\n",
    "#     plt.gca().set_xlim(0, variance_image.shape[1])\n",
    "#     plt.gca().set_ylim(0, variance_image.shape[0])\n",
    "    plt.gca().get_xaxis().set_visible(False)\n",
    "    plt.gca().get_yaxis().set_visible(False)\n",
    "#     plt.colorbar(img, ticks=[range(uniqueCount)], boundaries=bounds, orientation=\"horizontal\")\n",
    "#     show_label_boundaries(image_slic, plt.gca())"
   ]
  },
  {
   "cell_type": "code",
   "execution_count": 36,
   "metadata": {
    "ExecuteTime": {
     "end_time": "2019-03-25T03:59:08.166612Z",
     "start_time": "2019-03-25T03:59:07.417990Z"
    }
   },
   "outputs": [
    {
     "data": {
      "application/vnd.jupyter.widget-view+json": {
       "model_id": "fde05cad9bbf4894bb358787c4b2f0d0",
       "version_major": 2,
       "version_minor": 0
      },
      "text/plain": [
       "interactive(children=(IntSlider(value=19, continuous_update=False, description='n_segments', max=50, min=1), I…"
      ]
     },
     "metadata": {},
     "output_type": "display_data"
    }
   ],
   "source": [
    "@interact(n_segments=widgets.IntSlider(min=1, max=50, step=1, value=19, continuous_update=False),\n",
    "          n_partitions=widgets.IntSlider(min=1, max=50, step=1, value=16, continuous_update=False),\n",
    "          t=widgets.FloatSlider(min=-3, max=3, step=0.1, value=1, continuous_update=False),\n",
    "          r=widgets.IntSlider(min=1, max=5, step=1, value=1, continuous_update=False))\n",
    "def overlay_gt(n_segments, n_partitions, t, r):\n",
    "    image_slic = seg.slic(wcc_sum, n_segments=19)\n",
    "    labels = get_mc_labels(ground_truth, n_clusters=n_partitions)\n",
    "\n",
    "    colorList = [\n",
    "        \"#1f78b4\",\n",
    "        \"#33a02c\",\n",
    "        \"#e31a1c\",\n",
    "        \"#ff7f00\",\n",
    "        \"#6a3d9a\",\n",
    "        \"#b15928\",\n",
    "        \"#a6cee3\",\n",
    "        \"#b2df8a\",\n",
    "        \"#fb9a99\",\n",
    "        \"#fdbf6f\",\n",
    "        \"#cab2d6\",\n",
    "        \"#ffff99\",\n",
    "        \"#cccccc\",\n",
    "    ]\n",
    "\n",
    "    ccycle = cycle(colorList)\n",
    "\n",
    "    uniqueCount = len(np.unique(labels))\n",
    "    usedColors = []\n",
    "    for i, c in zip(range(uniqueCount), ccycle):\n",
    "        usedColors.append(c)\n",
    "    cmap = colors.ListedColormap(usedColors)\n",
    "    bounds = np.array([k for k in np.unique(labels)]) - 0.5\n",
    "    bounds = bounds.tolist()\n",
    "    bounds.append(bounds[-1]+1)\n",
    "\n",
    "    plt.figure(dpi=200)\n",
    "    img = plt.imshow(labels, cmap=cmap, interpolation=\"nearest\", origin=\"lower\")\n",
    "    plt.contour(wcc_sum, levels=[200, 210], colors=\"#ffffff\")\n",
    "#     variance_image = threshold_variance(t, r)\n",
    "#     plt.imshow(variance_image, cmap=plt.cm.Greys, vmin=0, vmax=255)\n",
    "#     plt.gca().set_xlim(0, variance_image.shape[1])\n",
    "#     plt.gca().set_ylim(0, variance_image.shape[0])\n",
    "    plt.gca().get_xaxis().set_visible(False)\n",
    "    plt.gca().get_yaxis().set_visible(False)\n",
    "#     plt.colorbar(img, ticks=[range(uniqueCount)], boundaries=bounds, orientation=\"horizontal\")\n",
    "#     show_label_boundaries(image_slic, plt.gca())"
   ]
  },
  {
   "cell_type": "code",
   "execution_count": 64,
   "metadata": {
    "ExecuteTime": {
     "end_time": "2019-03-25T04:45:52.690678Z",
     "start_time": "2019-03-25T04:45:47.676618Z"
    }
   },
   "outputs": [
    {
     "data": {
      "application/vnd.jupyter.widget-view+json": {
       "model_id": "289e8857f21948058054a039ec355043",
       "version_major": 2,
       "version_minor": 0
      },
      "text/plain": [
       "interactive(children=(IntSlider(value=1, continuous_update=False, description='n_segments', max=50, min=1), In…"
      ]
     },
     "metadata": {},
     "output_type": "display_data"
    }
   ],
   "source": [
    "@interact(n_segments=widgets.IntSlider(min=1, max=50, step=1, value=1, continuous_update=False),\n",
    "          n_partitions=widgets.IntSlider(min=1, max=50, step=1, value=1, continuous_update=False),\n",
    "          t=widgets.FloatSlider(min=-3, max=3, step=0.1, value=1, continuous_update=False),\n",
    "          r=widgets.IntSlider(min=1, max=5, step=1, value=1, continuous_update=False),\n",
    "          gamma=widgets.FloatSlider(min=0.1, max=3, step=0.1, value=2.2, continuous_update=False),)\n",
    "def overlay_uncertain(n_segments, n_partitions, t, r, gamma):\n",
    "    image_slic = seg.slic(wcc_sum, n_segments=n_segments)\n",
    "\n",
    "    plt.figure(dpi=200)\n",
    "    show_combined_overlay(ensemble, assignments, gamma=gamma, contours=True)\n",
    "#     img = plt.imshow(image_slic, cmap=cmap, interpolation=\"nearest\", origin=\"lower\")\n",
    "#     variance_image = threshold_variance(t=0.5, r=1)\n",
    "#     plt.imshow(variance_image, cmap=plt.cm.Greys, vmin=0, vmax=255)\n",
    "    plt.gca().get_xaxis().set_visible(False)\n",
    "    plt.gca().get_yaxis().set_visible(False)\n",
    "    show_msc_boundaries(ground_truth, n_clusters=n_clusters, color=\"#000000\")\n",
    "    show_msc_boundaries(mean_realization, n_clusters=n_clusters, color=\"#999999\")\n",
    "#     plt.contour(wcc_sum, levels=[200, 210], colors=\"#ffffff\")\n",
    "#     plt.colorbar(img, ticks=[range(uniqueCount)], boundaries=bounds, orientation=\"horizontal\")\n",
    "    show_label_boundaries(image_slic, plt.gca())"
   ]
  },
  {
   "cell_type": "markdown",
   "metadata": {
    "heading_collapsed": true
   },
   "source": [
    "# Ackley Non-Parametric Case"
   ]
  },
  {
   "cell_type": "code",
   "execution_count": null,
   "metadata": {
    "ExecuteTime": {
     "end_time": "2019-03-19T19:42:54.681079Z",
     "start_time": "2019-03-19T19:42:54.678821Z"
    },
    "hidden": true
   },
   "outputs": [],
   "source": [
    "import utpy.utils\n",
    "import utpy.vis\n",
    "import flatpy\n",
    "from functools import partial\n",
    "from itertools import cycle"
   ]
  },
  {
   "cell_type": "code",
   "execution_count": null,
   "metadata": {
    "ExecuteTime": {
     "end_time": "2019-03-19T19:42:57.092074Z",
     "start_time": "2019-03-19T19:42:56.851160Z"
    },
    "hidden": true
   },
   "outputs": [],
   "source": [
    "foo = flatpy.nD.available_functions[\"ackley\"]\n",
    "fractional_noise_level=0.6\n",
    "persistence = 0.665\n",
    "n_clusters = 9\n",
    "count = 50\n",
    "noise_level = 0.5*persistence*fractional_noise_level\n",
    "noise_model = \"nonparametric\"\n",
    "ground_truth, ensemble = utpy.utils.generate_ensemble(foo, noise_level, count, noise_model)\n",
    "ensemble = -ensemble\n",
    "ground_truth = -ground_truth\n",
    "\n",
    "graph_params = {\n",
    "    \"index\": None, \"max_neighbors\": 10, \"relaxed\": False, \"beta\": 1, \"p\": 2.\n",
    "}"
   ]
  },
  {
   "cell_type": "code",
   "execution_count": null,
   "metadata": {
    "ExecuteTime": {
     "end_time": "2019-03-19T19:42:58.943326Z",
     "start_time": "2019-03-19T19:42:58.938536Z"
    },
    "hidden": true
   },
   "outputs": [],
   "source": [
    "mean_realization = np.mean(ensemble, axis=2)\n",
    "median_realization = np.median(ensemble, axis=2)"
   ]
  },
  {
   "cell_type": "code",
   "execution_count": null,
   "metadata": {
    "ExecuteTime": {
     "end_time": "2019-03-19T22:08:23.075734Z",
     "start_time": "2019-03-19T22:08:23.065998Z"
    },
    "hidden": true
   },
   "outputs": [],
   "source": [
    "def show_msc(grid, persistence=None, n_clusters=None, color=\"#000000\"):\n",
    "    X, Y = utpy.utils.massage_data(grid)\n",
    "    h, w = grid.shape\n",
    "\n",
    "    graph = ngl.EmptyRegionGraph(**graph_params)\n",
    "    tmc = topopy.MorseComplex(graph=graph,\n",
    "                              gradient='steepest',\n",
    "                              normalization=None)\n",
    "    tmc.build(X, Y)\n",
    "\n",
    "    if persistence is None:\n",
    "        for p in tmc.persistences:\n",
    "            if len(tmc.get_partitions(p).keys()) <= n_clusters:\n",
    "                persistence = p\n",
    "                break\n",
    "\n",
    "    partitions = tmc.get_partitions(persistence)\n",
    "    keys = partitions.keys()\n",
    "\n",
    "    keyMap = {}\n",
    "    levels = []\n",
    "    for i, k in enumerate(keys):\n",
    "        keyMap[k] = i\n",
    "        levels.append(i+0.5)\n",
    "\n",
    "    colorList = [\n",
    "        \"#1f78b4\",\n",
    "        \"#33a02c\",\n",
    "        \"#e31a1c\",\n",
    "        \"#ff7f00\",\n",
    "        \"#6a3d9a\",\n",
    "        \"#b15928\",\n",
    "        \"#a6cee3\",\n",
    "        \"#b2df8a\",\n",
    "        \"#fb9a99\",\n",
    "        \"#fdbf6f\",\n",
    "        \"#cab2d6\",\n",
    "        \"#ffff99\",\n",
    "        \"#cccccc\",\n",
    "    ]\n",
    "\n",
    "    ccycle = cycle(colorList)\n",
    "\n",
    "    uniqueCount = len(keys)\n",
    "    usedColors = []\n",
    "    for i, c in zip(range(uniqueCount), ccycle):\n",
    "        usedColors.append(c)\n",
    "    cmap = colors.ListedColormap(usedColors)\n",
    "    bounds = np.array([keyMap[k] for k in keys]) - 0.5\n",
    "    bounds = bounds.tolist()\n",
    "    bounds.append(bounds[-1]+1)\n",
    "\n",
    "    color_mesh = np.zeros((h, w))\n",
    "    for key, indices in partitions.items():\n",
    "        for idx in indices:\n",
    "            color_mesh[idx // w, idx % w] = keyMap[key]\n",
    "\n",
    "    plt.gca().get_xaxis().set_visible(False)\n",
    "    plt.gca().get_yaxis().set_visible(False)\n",
    "    for i in keyMap.values():\n",
    "        lines = plt.contour(color_mesh == i, colors=color, levels=levels, linewidths=1)\n",
    "    plt.gca().set_aspect(\"equal\")\n",
    "    return lines"
   ]
  },
  {
   "cell_type": "code",
   "execution_count": null,
   "metadata": {
    "ExecuteTime": {
     "end_time": "2019-03-19T22:10:43.600185Z",
     "start_time": "2019-03-19T22:10:43.586322Z"
    },
    "hidden": true
   },
   "outputs": [],
   "source": [
    "def show_contour_overlay(ensemble, assignments):\n",
    "    ps = []\n",
    "    fields = []\n",
    "    count = ensemble.shape[2]\n",
    "    for i in range(count):\n",
    "        field, p = assignments(ensemble[:, :, i])\n",
    "        ps.append(p)\n",
    "        fields.append(field)\n",
    "\n",
    "    ps = np.array(ps)\n",
    "    fields = np.array(fields)\n",
    "\n",
    "    num_partitions = len(np.unique(fields[0]))\n",
    "    shape = (num_partitions,) + fields[0].shape\n",
    "    label_images = np.zeros(shape)\n",
    "\n",
    "    for i in range(num_partitions):\n",
    "        test_image = (fields == i)\n",
    "        label_images[i] = np.sum(test_image, axis=0)\n",
    "\n",
    "    colored_images = []\n",
    "    for i, c in zip(range(num_partitions), ccycle):\n",
    "        colored_image = np.zeros(label_images[0].shape + (4,))\n",
    "        colored_image[:, :, 0] = c[0]/255.\n",
    "        colored_image[:, :, 1] = c[1]/255.\n",
    "        colored_image[:, :, 2] = c[2]/255.\n",
    "        colored_images.append(colored_image)\n",
    "\n",
    "    for i, label_image in enumerate(label_images):\n",
    "        colored_images[i][:, :, 3] = label_image / count\n",
    "\n",
    "    for i, color in zip(range(num_partitions), ccycle):\n",
    "        my_color = \"#{:>02}{:>02}{:>02}\".format(*[hex(c).split('x')[-1] for c in color])\n",
    "        plt.contourf(colored_images[i][:, :, 3], levels=[0.99999, 1], colors=my_color, alpha=0.5)\n",
    "#         if colored:\n",
    "#             plt.contourf(colored_images[i][:, :, 3], levels=[\n",
    "#                          1e-6, 1], colors=my_color, alpha=0.5)\n",
    "#         else:\n",
    "#             plt.contourf(colored_images[i][:, :, 3], levels=[\n",
    "#                          0.99999, 1], colors=my_color, alpha=0.5)\n",
    "        plt.contour(colored_images[i][:, :, 3], levels=[0.0, 0.5, 1], colors=my_color, linewidths=[\n",
    "                    1, 0.5, 1.0], linestyles=['solid', 'dashed', 'solid'])\n",
    "    plt.gca().set_xlim(0, ensemble.shape[1])\n",
    "    # plt.gca().set_ylim(ensemble.shape[0], 0)\n",
    "    plt.gca().set_ylim(0, ensemble.shape[0])\n",
    "    plt.gca().get_xaxis().set_visible(False)\n",
    "    plt.gca().get_yaxis().set_visible(False)\n",
    "    plt.gca().set_aspect('equal')"
   ]
  },
  {
   "cell_type": "code",
   "execution_count": null,
   "metadata": {
    "ExecuteTime": {
     "end_time": "2019-03-19T22:14:33.230927Z",
     "start_time": "2019-03-19T22:14:33.217373Z"
    },
    "hidden": true
   },
   "outputs": [],
   "source": [
    "def show_combined_overlay(ensemble, assignments, gamma=2.2, contours=False):\n",
    "    ps = []\n",
    "    fields = []\n",
    "    count = ensemble.shape[2]\n",
    "    for i in range(count):\n",
    "        field, p = assignments(ensemble[:, :, i])\n",
    "        ps.append(p)\n",
    "        fields.append(field)\n",
    "\n",
    "    ps = np.array(ps)\n",
    "    fields = np.array(fields)\n",
    "\n",
    "    num_partitions = len(np.unique(fields[0]))\n",
    "    shape = (num_partitions,) + fields[0].shape\n",
    "    label_images = np.zeros(shape)\n",
    "\n",
    "    for i in range(num_partitions):\n",
    "        test_image = (fields == i)\n",
    "        label_images[i] = np.sum(test_image, axis=0)\n",
    "\n",
    "    colored_images = []\n",
    "    for i, c in zip(range(num_partitions), ccycle):\n",
    "        colored_image = np.zeros(label_images[0].shape + (4,))\n",
    "        colored_image[:, :, 0] = c[0]/255.\n",
    "        colored_image[:, :, 1] = c[1]/255.\n",
    "        colored_image[:, :, 2] = c[2]/255.\n",
    "        colored_images.append(colored_image)\n",
    "\n",
    "    for i, label_image in enumerate(label_images):\n",
    "        colored_images[i][:, :, 3] = label_image / count\n",
    "\n",
    "    composite_image = 255*np.ones(colored_images[0].shape)[:, :, :-1]\n",
    "    for colored_image in colored_images:\n",
    "        composite_image = utpy.vis.overlay_alpha_image_precise(\n",
    "            composite_image, 255*colored_image, 1.1, gamma)\n",
    "    for i, color in zip(range(num_partitions), ccycle):\n",
    "        my_color = \"#{}{}{}\".format(*[hex(c).split('x')[-1] for c in color])\n",
    "        plt.contourf(colored_images[i][:, :, 3], levels=[\n",
    "                     0.99999, 1], colors=\"#FFFFFF\", alpha=1)\n",
    "        if contours:\n",
    "            plt.contour(colored_images[i][:, :, 3], levels=[\n",
    "                        0.5, 1], colors=\"#999999\", linewidths=[2, 1.0], linestyles=['dotted', 'solid'])\n",
    "\n",
    "    plt.imshow(composite_image)\n",
    "    plt.gca().get_xaxis().set_visible(False)\n",
    "    plt.gca().get_yaxis().set_visible(False)\n",
    "    # plt.gca().set_ylim(ensemble.shape[0], 0)\n",
    "    plt.gca().set_ylim(0, ensemble.shape[0])"
   ]
  },
  {
   "cell_type": "code",
   "execution_count": null,
   "metadata": {
    "ExecuteTime": {
     "end_time": "2019-03-19T19:43:27.654910Z",
     "start_time": "2019-03-19T19:43:06.026774Z"
    },
    "hidden": true
   },
   "outputs": [],
   "source": [
    "persistence = utpy.utils.get_persistence_from_count(ensemble, n_clusters)\n",
    "maxima_map = utpy.utils.create_assignment_map(ensemble, n_clusters=n_clusters, persistence=persistence)\n",
    "assignments = partial(utpy.utils.assign_labels, maxima_map=maxima_map, n_clusters=n_clusters, persistence=persistence)"
   ]
  },
  {
   "cell_type": "code",
   "execution_count": null,
   "metadata": {
    "ExecuteTime": {
     "end_time": "2019-03-19T22:08:47.104777Z",
     "start_time": "2019-03-19T22:08:47.100741Z"
    },
    "hidden": true
   },
   "outputs": [],
   "source": [
    "color_list = [[141, 211, 199], [255, 255, 179], [190, 186, 218],\n",
    "              [251, 128, 114], [128, 177, 211], [253, 180, 98],\n",
    "              [179, 222, 105], [252, 205, 229], [217, 217, 217]]\n",
    "# color_list = [[228,26,28], [55,126,184], [77,175,74],\n",
    "#               [152,78,163],[255,127,0],[255,255,51],\n",
    "#               [166,86,40],[247,129,191],[153,153,153]]\n",
    "# color_list = [[105,239,123], [149,56,144], [66,30,200],\n",
    "#                 [14,80,62], [153,222,249], [24,81,155],\n",
    "#                 [218,185,255], [192,222,164], [183,211,33]]\n",
    "# color_list = [[251,180,174],[179,205,227],[204,235,197],\n",
    "#               [222,203,228],[254,217,166],[255,255,204],\n",
    "#               [229,216,189],[253,218,236],[242,242,242]]\n",
    "\n",
    "ccycle = cycle(color_list)"
   ]
  },
  {
   "cell_type": "code",
   "execution_count": null,
   "metadata": {
    "ExecuteTime": {
     "end_time": "2019-03-19T22:14:46.702898Z",
     "start_time": "2019-03-19T22:14:35.041485Z"
    },
    "hidden": true,
    "scrolled": false
   },
   "outputs": [],
   "source": [
    "plt.figure(dpi=200)\n",
    "show_combined_overlay(ensemble, assignments, 0.2, True)\n",
    "show_msc(ground_truth, n_clusters=n_clusters, color=\"#4daf4a\")\n",
    "show_msc(mean_realization, n_clusters=n_clusters, color=\"#e41a1c\")\n",
    "plt.plot([-1,-0.5], [0,1], color=\"#4daf4a\", linewidth=1, label=\"Truth\")\n",
    "plt.plot([-1,-0.5], [0,1], color=\"#e41a1c\", linewidth=1, label=\"Mean\")\n",
    "plt.plot([-1,-0.5], [0,1], color=\"#999999\", linestyle=\"dotted\", linewidth=2, label=\"50% Prob.\")\n",
    "plt.gca().set_xlim(0,39)\n",
    "plt.gca().set_ylim(0,39)\n",
    "_ = plt.legend(bbox_to_anchor=(0,1.02,1,0.2), loc=\"lower left\", mode=\"expand\", borderaxespad=0, ncol=3)\n"
   ]
  },
  {
   "cell_type": "code",
   "execution_count": null,
   "metadata": {
    "ExecuteTime": {
     "end_time": "2019-03-19T22:17:23.467279Z",
     "start_time": "2019-03-19T22:17:23.456497Z"
    },
    "hidden": true
   },
   "outputs": [],
   "source": [
    "def show_certain_regions(ensemble, assignments, contours=False):\n",
    "    ps = []\n",
    "    fields = []\n",
    "    count = ensemble.shape[2]\n",
    "    for i in range(count):\n",
    "        field, p = assignments(ensemble[:, :, i])\n",
    "        ps.append(p)\n",
    "        fields.append(field)\n",
    "\n",
    "    ps = np.array(ps)\n",
    "    fields = np.array(fields)\n",
    "\n",
    "    num_partitions = len(np.unique(fields[0]))\n",
    "    shape = (num_partitions,) + fields[0].shape\n",
    "    label_images = np.zeros(shape)\n",
    "\n",
    "    for i in range(num_partitions):\n",
    "        test_image = (fields == i)\n",
    "        label_images[i] = np.sum(test_image, axis=0)\n",
    "\n",
    "    colored_images = []\n",
    "    for i, c in zip(range(num_partitions), ccycle):\n",
    "        colored_image = np.zeros(label_images[0].shape + (4,))\n",
    "        colored_image[:, :, 0] = c[0]/255.\n",
    "        colored_image[:, :, 1] = c[1]/255.\n",
    "        colored_image[:, :, 2] = c[2]/255.\n",
    "        colored_images.append(colored_image)\n",
    "\n",
    "    for i, label_image in enumerate(label_images):\n",
    "        colored_images[i][:, :, 3] = label_image / count\n",
    "\n",
    "    for i, color in zip(range(num_partitions), ccycle):\n",
    "        my_color = \"#{:>02}{:>02}{:>02}\".format(\n",
    "            *[hex(c).split('x')[-1] for c in color])\n",
    "        plt.contourf(colored_images[i][:, :, 3], levels=[\n",
    "                     0.99999, 1], colors=my_color, alpha=1)\n",
    "        if contours:\n",
    "            plt.contour(colored_images[i][:, :, 3], levels=[0.0, 0.5, 1], colors=my_color, linewidths=[\n",
    "                        1, 0.5, 1.0], linestyles=['solid', 'dashed', 'solid'])\n",
    "        # else:\n",
    "        #     plt.contour(colored_images[i][:, :, 3], levels=[0.0, 1], colors=my_color, linewidths=[\n",
    "        #                 1, 1.0], linestyles=['solid', 'dashed', 'solid'])\n",
    "    plt.gca().set_xlim(0, ensemble.shape[1])\n",
    "    # plt.gca().set_ylim(ensemble.shape[0], 0)\n",
    "    plt.gca().set_ylim(0, ensemble.shape[0])\n",
    "    plt.gca().get_xaxis().set_visible(False)\n",
    "    plt.gca().get_yaxis().set_visible(False)\n",
    "    plt.gca().set_aspect('equal')"
   ]
  },
  {
   "cell_type": "code",
   "execution_count": null,
   "metadata": {
    "ExecuteTime": {
     "end_time": "2019-03-19T22:17:32.986708Z",
     "start_time": "2019-03-19T22:17:24.105164Z"
    },
    "hidden": true
   },
   "outputs": [],
   "source": [
    "plt.figure(dpi=200)\n",
    "show_certain_regions(ensemble, assignments)"
   ]
  },
  {
   "cell_type": "code",
   "execution_count": null,
   "metadata": {
    "ExecuteTime": {
     "end_time": "2019-03-18T21:19:08.678111Z",
     "start_time": "2019-03-18T21:19:03.212987Z"
    },
    "hidden": true
   },
   "outputs": [],
   "source": [
    "plt.figure(dpi=200)\n",
    "show_combined_overlay(ensemble, assignments, 0.6, False)\n",
    "# show_msc(ground_truth, n_clusters=n_clusters, color=\"#4daf4a\")\n",
    "# show_msc(mean_realization, n_clusters=n_clusters, color=\"#e41a1c\")\n",
    "plt.plot([-1,-0.5], [0,1], color=\"#4daf4a\", linewidth=1, label=\"ground truth\")\n",
    "plt.plot([-1,-0.5], [0,1], color=\"#e41a1c\", linewidth=1, label=\"mean\")\n",
    "plt.gca().set_xlim(0,39)\n",
    "plt.gca().set_ylim(0,39)\n",
    "_ = plt.legend(bbox_to_anchor=(0,1.02,1,0.2), loc=\"lower left\", mode=\"expand\", borderaxespad=0, ncol=3)"
   ]
  },
  {
   "cell_type": "code",
   "execution_count": null,
   "metadata": {
    "ExecuteTime": {
     "end_time": "2019-03-18T21:18:57.834174Z",
     "start_time": "2019-03-18T21:18:52.463259Z"
    },
    "hidden": true
   },
   "outputs": [],
   "source": [
    "plt.figure(dpi=200)\n",
    "show_combined_overlay(ensemble, assignments, 0.8, False)\n",
    "# show_msc(ground_truth, n_clusters=n_clusters, color=\"#4daf4a\")\n",
    "# show_msc(mean_realization, n_clusters=n_clusters, color=\"#e41a1c\")\n",
    "plt.plot([-1,-0.5], [0,1], color=\"#4daf4a\", linewidth=1, label=\"ground truth\")\n",
    "plt.plot([-1,-0.5], [0,1], color=\"#e41a1c\", linewidth=1, label=\"mean\")\n",
    "plt.gca().set_xlim(0,39)\n",
    "plt.gca().set_ylim(0,39)\n",
    "_ = plt.legend(bbox_to_anchor=(0,1.02,1,0.2), loc=\"lower left\", mode=\"expand\", borderaxespad=0, ncol=3)"
   ]
  },
  {
   "cell_type": "code",
   "execution_count": null,
   "metadata": {
    "ExecuteTime": {
     "end_time": "2019-03-18T21:20:49.372531Z",
     "start_time": "2019-03-18T21:20:43.978119Z"
    },
    "hidden": true
   },
   "outputs": [],
   "source": [
    "plt.figure(dpi=200)\n",
    "show_combined_overlay(ensemble, assignments, 2.2, False)\n",
    "# show_msc(ground_truth, n_clusters=n_clusters, color=\"#4daf4a\")\n",
    "# show_msc(mean_realization, n_clusters=n_clusters, color=\"#e41a1c\")\n",
    "plt.plot([-1,-0.5], [0,1], color=\"#4daf4a\", linewidth=1, label=\"ground truth\")\n",
    "plt.plot([-1,-0.5], [0,1], color=\"#e41a1c\", linewidth=1, label=\"mean\")\n",
    "plt.gca().set_xlim(0,39)\n",
    "plt.gca().set_ylim(0,39)\n",
    "_ = plt.legend(bbox_to_anchor=(0,1.02,1,0.2), loc=\"lower left\", mode=\"expand\", borderaxespad=0, ncol=3)"
   ]
  },
  {
   "cell_type": "code",
   "execution_count": null,
   "metadata": {
    "hidden": true
   },
   "outputs": [],
   "source": []
  }
 ],
 "metadata": {
  "kernelspec": {
   "display_name": "Python [conda env:uncertain]",
   "language": "python",
   "name": "conda-env-uncertain-py"
  },
  "language_info": {
   "codemirror_mode": {
    "name": "ipython",
    "version": 3
   },
   "file_extension": ".py",
   "mimetype": "text/x-python",
   "name": "python",
   "nbconvert_exporter": "python",
   "pygments_lexer": "ipython3",
   "version": "3.7.2"
  },
  "toc": {
   "base_numbering": 1,
   "nav_menu": {},
   "number_sections": true,
   "sideBar": true,
   "skip_h1_title": false,
   "title_cell": "Table of Contents",
   "title_sidebar": "Contents",
   "toc_cell": false,
   "toc_position": {},
   "toc_section_display": true,
   "toc_window_display": true
  }
 },
 "nbformat": 4,
 "nbformat_minor": 2
}
