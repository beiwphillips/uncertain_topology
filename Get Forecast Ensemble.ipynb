{
 "cells": [
  {
   "cell_type": "code",
   "execution_count": 6,
   "metadata": {
    "ExecuteTime": {
     "end_time": "2019-02-08T04:01:58.006224Z",
     "start_time": "2019-02-08T04:01:57.996842Z"
    }
   },
   "outputs": [],
   "source": [
    "import numpy as np\n",
    "import dateutil.parser\n",
    "import datetime\n",
    "from urllib.request import urlopen, Request\n",
    "import requests\n",
    "import simplejson as json\n",
    "import pandas as pd"
   ]
  },
  {
   "cell_type": "code",
   "execution_count": 2,
   "metadata": {
    "ExecuteTime": {
     "end_time": "2019-02-08T03:51:57.519896Z",
     "start_time": "2019-02-08T03:51:57.483390Z"
    }
   },
   "outputs": [],
   "source": [
    "tomorrow = datetime.datetime.today()+ datetime.timedelta(days=1)\n",
    "time = tomorrow.strftime('%Y-%m-%d') + \"T00:00:00\"\n",
    "with open('apikey') as f:\n",
    "    apikey = f.read().strip()\n",
    "num_ens = 10\n",
    "prec_var = \"Total_precipitation_surface_6_Hour_Accumulation_ens\"\n",
    "pres_var = \"Pressure_surface_ens\""
   ]
  },
  {
   "cell_type": "code",
   "execution_count": 24,
   "metadata": {
    "ExecuteTime": {
     "end_time": "2019-02-08T09:16:24.939513Z",
     "start_time": "2019-02-08T09:16:24.521514Z"
    }
   },
   "outputs": [
    {
     "name": "stdout",
     "output_type": "stream",
     "text": [
      "http://api.planetos.com/v1/datasets/noaa-ncep_gefs?apikey=d234affcd90a44538749b23fcab5dcd8\n"
     ]
    },
    {
     "data": {
      "text/plain": [
       "['Total_precipitation_surface_6_Hour_Accumulation_ens']"
      ]
     },
     "execution_count": 24,
     "metadata": {},
     "output_type": "execute_result"
    }
   ],
   "source": [
    "API_meta_url = \"http://api.planetos.com/v1/datasets/noaa-ncep_gefs?apikey={}\".format(apikey)\n",
    "print(API_meta_url)\n",
    "request = Request(API_meta_url)\n",
    "response = urlopen(request)\n",
    "API_meta = json.loads(response.read())\n",
    "\n",
    "[i['name'] for i in API_meta['Variables'] if 'precipitation' in i['name'].lower() and 'surface' in i['name'].lower()]"
   ]
  },
  {
   "cell_type": "code",
   "execution_count": 25,
   "metadata": {
    "ExecuteTime": {
     "end_time": "2019-02-08T09:17:31.213372Z",
     "start_time": "2019-02-08T09:16:30.620133Z"
    }
   },
   "outputs": [
    {
     "name": "stdout",
     "output_type": "stream",
     "text": [
      "http://api.planetos.com/v1/datasets/noaa-ncep_gefs/point?time=2019-02-08T00:00:00&count=100000&verbose=false&apikey=d234affcd90a44538749b23fcab5dcd8&var=Total_precipitation_surface_6_Hour_Accumulation_ens\n"
     ]
    }
   ],
   "source": [
    "API_url = \"http://api.planetos.com/v1/datasets/noaa-ncep_gefs/point?time={}&count=100000&verbose=false&apikey={}&var={}\".format(time, apikey, prec_var)\n",
    "request = Request(API_url)\n",
    "response = urlopen(request)\n",
    "API_data_prec = json.loads(response.read())\n",
    "print(API_url)"
   ]
  },
  {
   "cell_type": "code",
   "execution_count": 26,
   "metadata": {
    "ExecuteTime": {
     "end_time": "2019-02-08T09:17:31.707752Z",
     "start_time": "2019-02-08T09:17:31.253881Z"
    }
   },
   "outputs": [],
   "source": [
    "lats = []\n",
    "lons = []\n",
    "for i in API_data_prec['entries']:\n",
    "    lats.append(i['axes']['latitude'])\n",
    "    lons.append(i['axes']['longitude'])\n",
    "\n",
    "lats = np.unique(lats)\n",
    "lons = np.unique(lons)"
   ]
  },
  {
   "cell_type": "code",
   "execution_count": 28,
   "metadata": {
    "ExecuteTime": {
     "end_time": "2019-02-08T09:18:37.779862Z",
     "start_time": "2019-02-08T09:18:36.923551Z"
    },
    "scrolled": false
   },
   "outputs": [],
   "source": [
    "## first collect data to dictionaries, then convert to Pandas DataFrame\n",
    "\n",
    "X = np.zeros((len(lons),len(lats), 2))\n",
    "Y = np.zeros((len(lons), len(lats), num_ens))\n",
    "\n",
    "min_lat = int(np.min(lats))\n",
    "min_lon = int(np.min(lons))\n",
    "for i in API_data_prec['entries']:\n",
    "    lat = int(i['axes']['latitude'])\n",
    "    lon = int(i['axes']['longitude'])\n",
    "    ens = int(i['axes']['ens'])\n",
    "    X[lon-min_lon, lat-min_lat, 0] = lat\n",
    "    X[lon-min_lon, lat-min_lat, 1] = lon\n",
    "    Y[lon-min_lon, lat-min_lat, ens] = i['data'][prec_var]\n",
    "\n",
    "np.save(\"latlon_{}.npy\".format(time), X)\n",
    "np.save(\"precipitation_{}.npy\".format(time), Y)"
   ]
  },
  {
   "cell_type": "code",
   "execution_count": null,
   "metadata": {},
   "outputs": [],
   "source": []
  }
 ],
 "metadata": {
  "kernelspec": {
   "display_name": "Python 3",
   "language": "python",
   "name": "python3"
  },
  "language_info": {
   "codemirror_mode": {
    "name": "ipython",
    "version": 3
   },
   "file_extension": ".py",
   "mimetype": "text/x-python",
   "name": "python",
   "nbconvert_exporter": "python",
   "pygments_lexer": "ipython3",
   "version": "3.7.0"
  }
 },
 "nbformat": 4,
 "nbformat_minor": 2
}
